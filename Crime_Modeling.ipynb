{
 "cells": [
  {
   "cell_type": "code",
   "execution_count": 1,
   "metadata": {},
   "outputs": [],
   "source": [
    "import pandas as pd\n",
    "import numpy as np\n",
    "import matplotlib.pyplot as plt\n",
    "import datetime\n",
    "import xgboost as xgb"
   ]
  },
  {
   "cell_type": "markdown",
   "metadata": {},
   "source": [
    "This is an attempt at recreating a predictive policing model as roughly outlined [here](https://www.predpol.com/how-predictive-policing-works/) by PredPol, a company that provides crime prediction tools that are being used by police departments in major cities throughout the country.  I will not use the algorithm that they [proudly display](https://www.predpol.com/technology/) on their site but I will use only \"objective\" data that they also tout: time, location, and type.  All crime data is obtained [here](https://data.lacity.org/A-Safe-City/Crime-Data-from-2010-to-2019/63jg-8b9z)."
   ]
  },
  {
   "cell_type": "markdown",
   "metadata": {},
   "source": [
    "## Data Cleaning and Prep"
   ]
  },
  {
   "cell_type": "code",
   "execution_count": 2,
   "metadata": {},
   "outputs": [],
   "source": [
    "crime = pd.read_csv(\"Crime_Data_from_2016_to_2019.csv\")\n",
    "\n",
    "crime['crime_cat'] = crime['Crm Cd'] // 100 \n",
    "crime['time'] = crime['TIME OCC'] // 100\n",
    "\n",
    "# filter out any lat or lon that are definitely out of range\n",
    "crime = crime[(crime['LON'] != 0) & (crime['LAT'] != 0)]\n",
    "\n",
    "#set to datetime \n",
    "crime['DATE OCC'] = pd.to_datetime(crime['DATE OCC'])\n",
    "# filter to dates 2016 and on\n",
    "crime = crime[crime['DATE OCC'] >= '2016-01-01']\n",
    "\n",
    "# make sure our dates are in our desired order\n",
    "crime = crime.sort_values('DATE OCC')"
   ]
  },
  {
   "cell_type": "markdown",
   "metadata": {},
   "source": [
    "I want to get into a few things about how I'll be working with the data before I jump into any modeling portion.\n",
    "\n",
    "There are 141 unique crime codes and treating the whole as a categorical feature would be dangerous for predicting the low frequency crimes that are still high severity (i.e. murder, rape, kidnapping).  However our crime codes categorize crime types for each 100 block.  They do not occur at equal frequencies and the severity can range within the block.  I'll insert a table of the crime descriptions to their categories for reference.  \n",
    "\n",
    "For time of day I will break times into three factors: Late night/morning (3:00-10:59 AM), Midday (11-5:59 PM), and Night (6-2:59 AM).  These aren't meant to be particularly even periods of time, just rough estimates so we aren't using a factor variable with 24 different categories.\n",
    "\n",
    "We will merge some of our lat lon coordinates into general zones for when we have to group data together. 10 lon groupings, 10 lat groupings.   "
   ]
  },
  {
   "cell_type": "code",
   "execution_count": 3,
   "metadata": {},
   "outputs": [],
   "source": [
    "# we want to group locations in a grid of 100 spaces\n",
    "# also want to store counts in each of these locations for visualization purposes \n",
    "\n",
    "crime_counts = np.zeros((10, 10))\n",
    "lat_range = np.arange(np.min(crime['LAT']), np.max(crime['LAT']) + 0.0025, -(np.min(crime['LAT']) - np.max(crime['LAT']) + 0.0025) / 11 )\n",
    "lon_range = np.arange(np.min(crime['LON']), np.max(crime['LON']) + 0.00219, abs(np.min(crime['LON']) - np.max(crime['LON']) + 0.00219 ) / 11)\n",
    "crime['lat_area'] = np.nan \n",
    "crime['lon_area'] = np.nan\n",
    "for i in range(len(crime)):\n",
    "    for a in range(10):\n",
    "        if lon_range[a] <= (crime['LON'].values[i]) < lon_range[a + 1]:\n",
    "            lon_box = a\n",
    "            crime['lon_area'].values[i] = lon_box\n",
    "            break\n",
    "    for b in range(10):\n",
    "        if lat_range[b] <= (crime['LAT'].values[i]) < lat_range[b + 1]:\n",
    "            lat_box = b\n",
    "            crime_counts[lat_box , lon_box] += 1\n",
    "            crime['lat_area'].values[i] = lat_box\n",
    "            break \n",
    "            \n",
    "    "
   ]
  },
  {
   "cell_type": "markdown",
   "metadata": {},
   "source": [
    "Now we'll add our time of day 3 level factor variable and calculate the running 90 day crime count as well.  This count is grouped by the lat lon area, time of day, and crime category.  As such we will not use the first 90 days in the set as it'd contain incomplete data.  "
   ]
  },
  {
   "cell_type": "code",
   "execution_count": 4,
   "metadata": {},
   "outputs": [],
   "source": [
    "# set up categorical data \n",
    "crime['tod'] = np.nan\n",
    "for i in range(len(crime)):\n",
    "    if 3 <= crime['time'].values[i] <= 10:\n",
    "        crime['tod'].values[i] = 0\n",
    "    elif 11 <= crime['time'].values[i] <= 16:\n",
    "        crime['tod'].values[i] = 1\n",
    "    else:\n",
    "        crime['tod'].values[i] = 2\n",
    "        \n"
   ]
  },
  {
   "cell_type": "markdown",
   "metadata": {},
   "source": [
    "Unfortunately due to the size of our dataframe and the amount of time it will take to iterate through the data for this specific column, we will shrink the totality of our train and test sets to 100,000 rows.  I am not sure of a more computationally efficient way to calculate this off the top of my head but with the computing power I have and the fact that I'll still have hopefully more than enough data, it's a choice I'm okay with making at this point.  "
   ]
  },
  {
   "cell_type": "code",
   "execution_count": 5,
   "metadata": {},
   "outputs": [],
   "source": [
    "# group on date, crime_cat, time of day, lat lon\n",
    "# hold a separate dataset with only the variables we care for right now\n",
    "smaller = crime[len(crime) - 100000:len(crime)]\n",
    "\n",
    "group = smaller[['DATE OCC',  'lat_area', 'lon_area', 'tod']]\n",
    "\n",
    "grouped = group.groupby(['DATE OCC',  'lat_area', 'lon_area', 'tod']).size().reset_index(name = 'counts')\n",
    "\n",
    "grouped['window_count'] = 0\n",
    "\n",
    "# generate 30 day counts \n",
    "start_date = datetime.datetime(2016, 1, 1) + datetime.timedelta(30)\n",
    "\n",
    "for i in range(len(grouped)):\n",
    "    # filter for rows before summing\n",
    "    grouped['window_count'].values[i] = np.nan_to_num(np.mean(grouped[(grouped['lat_area'] == grouped['lat_area'].values[i]) & \n",
    "                   (grouped['lon_area'] == grouped['lon_area'].values[i]) & \n",
    "                   (grouped['tod'] == grouped['tod'].values[i]) &\n",
    "                   (grouped['DATE OCC'] < grouped['DATE OCC'].values[i]) &\n",
    "                   (grouped['DATE OCC'] >= (grouped['DATE OCC'].values[i] - np.timedelta64(30, 'D')))]['counts']))\n",
    "    \n",
    "    \n",
    "# grab rows that are greater than 30 days beyond 1-1-2016\n",
    "grouped = grouped[grouped['DATE OCC'] >= start_date]"
   ]
  },
  {
   "cell_type": "markdown",
   "metadata": {},
   "source": [
    "Before we begin modeling, we have to convert our factor variables into one hot encoded columns.  I don't anticipate any problems with converting our time of day factor but there may be a sparsity issue with some of the more rare crime categories.  I will not be treating the geographical areas as any type of factors as our decision tree based model will be able to partition the two variables in a 2d space."
   ]
  },
  {
   "cell_type": "code",
   "execution_count": 6,
   "metadata": {},
   "outputs": [],
   "source": [
    "# one hot encode factor vars (tod, crime_cat)\n",
    "grouped = pd.get_dummies(grouped.astype(str), prefix = [ 'tod'], columns = [ 'tod'])\n"
   ]
  },
  {
   "cell_type": "code",
   "execution_count": 7,
   "metadata": {},
   "outputs": [],
   "source": [
    "grouped = grouped.drop(columns = 'DATE OCC').astype('float64')"
   ]
  },
  {
   "cell_type": "markdown",
   "metadata": {},
   "source": [
    "With our final data now prepped, we need to split into train and test groups.  For the purposes of this exercise our test set will be made up of the most recent data, our training set the older data. I'll use an 80-20 split."
   ]
  },
  {
   "cell_type": "code",
   "execution_count": 8,
   "metadata": {},
   "outputs": [],
   "source": [
    "# train test split \n",
    "train_len = np.round(len(grouped) * 0.8 )\n",
    "\n",
    "train = grouped.iloc[0:int(train_len)]\n",
    "test = grouped.iloc[int(train_len):len(grouped)]"
   ]
  },
  {
   "cell_type": "markdown",
   "metadata": {},
   "source": [
    "## Modeling"
   ]
  },
  {
   "cell_type": "markdown",
   "metadata": {},
   "source": [
    "Now we have our data set and can begin training"
   ]
  },
  {
   "cell_type": "code",
   "execution_count": 9,
   "metadata": {},
   "outputs": [
    {
     "name": "stdout",
     "output_type": "stream",
     "text": [
      "[23:22:48] WARNING: /Users/travis/build/dmlc/xgboost/src/objective/regression_obj.cu:170: reg:linear is now deprecated in favor of reg:squarederror.\n",
      "[23:22:48] WARNING: /Users/travis/build/dmlc/xgboost/src/learner.cc:480: \n",
      "Parameters: { silent } might not be used.\n",
      "\n",
      "  This may not be accurate due to some parameters are only used in language bindings but\n",
      "  passed down to XGBoost core.  Or some parameters are not used but slip through this\n",
      "  verification. Please open an issue if you find above cases.\n",
      "\n",
      "\n",
      "[0]\teval-rmse:4.62215\ttrain-rmse:4.75171\n",
      "Multiple eval metrics have been passed: 'train-rmse' will be used for early stopping.\n",
      "\n",
      "Will train until train-rmse hasn't improved in 10 rounds.\n",
      "[1]\teval-rmse:3.61334\ttrain-rmse:3.73597\n",
      "[2]\teval-rmse:2.99872\ttrain-rmse:3.11669\n",
      "[3]\teval-rmse:2.65176\ttrain-rmse:2.76007\n",
      "[4]\teval-rmse:2.46753\ttrain-rmse:2.56376\n",
      "[5]\teval-rmse:2.37522\ttrain-rmse:2.46013\n",
      "[6]\teval-rmse:2.32906\ttrain-rmse:2.40517\n",
      "[7]\teval-rmse:2.30948\ttrain-rmse:2.37720\n",
      "[8]\teval-rmse:2.30042\ttrain-rmse:2.36178\n",
      "[9]\teval-rmse:2.29670\ttrain-rmse:2.35228\n",
      "[10]\teval-rmse:2.29381\ttrain-rmse:2.34582\n",
      "[11]\teval-rmse:2.29503\ttrain-rmse:2.34183\n",
      "[12]\teval-rmse:2.29622\ttrain-rmse:2.33826\n",
      "[13]\teval-rmse:2.29634\ttrain-rmse:2.33450\n",
      "[14]\teval-rmse:2.29643\ttrain-rmse:2.33225\n",
      "[15]\teval-rmse:2.29685\ttrain-rmse:2.32991\n",
      "[16]\teval-rmse:2.29754\ttrain-rmse:2.32365\n",
      "[17]\teval-rmse:2.29706\ttrain-rmse:2.32251\n",
      "[18]\teval-rmse:2.29722\ttrain-rmse:2.31907\n",
      "[19]\teval-rmse:2.29706\ttrain-rmse:2.31722\n",
      "[20]\teval-rmse:2.29661\ttrain-rmse:2.31599\n",
      "[21]\teval-rmse:2.29543\ttrain-rmse:2.31415\n",
      "[22]\teval-rmse:2.29551\ttrain-rmse:2.31251\n",
      "[23]\teval-rmse:2.29497\ttrain-rmse:2.31094\n",
      "[24]\teval-rmse:2.29518\ttrain-rmse:2.30899\n",
      "[25]\teval-rmse:2.29807\ttrain-rmse:2.30449\n",
      "[26]\teval-rmse:2.29713\ttrain-rmse:2.30343\n",
      "[27]\teval-rmse:2.29714\ttrain-rmse:2.30249\n",
      "[28]\teval-rmse:2.29974\ttrain-rmse:2.30026\n",
      "[29]\teval-rmse:2.29940\ttrain-rmse:2.29902\n",
      "[30]\teval-rmse:2.29925\ttrain-rmse:2.29631\n",
      "[31]\teval-rmse:2.29901\ttrain-rmse:2.29541\n",
      "[32]\teval-rmse:2.29867\ttrain-rmse:2.29455\n",
      "[33]\teval-rmse:2.29886\ttrain-rmse:2.29384\n",
      "[34]\teval-rmse:2.29851\ttrain-rmse:2.29231\n",
      "[35]\teval-rmse:2.29838\ttrain-rmse:2.28929\n",
      "[36]\teval-rmse:2.29838\ttrain-rmse:2.28884\n",
      "[37]\teval-rmse:2.29845\ttrain-rmse:2.28798\n",
      "[38]\teval-rmse:2.29947\ttrain-rmse:2.28643\n",
      "[39]\teval-rmse:2.29877\ttrain-rmse:2.28412\n",
      "[40]\teval-rmse:2.29825\ttrain-rmse:2.28342\n",
      "[41]\teval-rmse:2.29849\ttrain-rmse:2.28284\n",
      "[42]\teval-rmse:2.29813\ttrain-rmse:2.28190\n",
      "[43]\teval-rmse:2.29862\ttrain-rmse:2.28131\n",
      "[44]\teval-rmse:2.29952\ttrain-rmse:2.28073\n",
      "[45]\teval-rmse:2.29893\ttrain-rmse:2.27905\n",
      "[46]\teval-rmse:2.29874\ttrain-rmse:2.27845\n",
      "[47]\teval-rmse:2.29952\ttrain-rmse:2.27742\n",
      "[48]\teval-rmse:2.29971\ttrain-rmse:2.27641\n",
      "[49]\teval-rmse:2.29976\ttrain-rmse:2.27560\n",
      "[50]\teval-rmse:2.30110\ttrain-rmse:2.27446\n",
      "[51]\teval-rmse:2.30169\ttrain-rmse:2.27407\n",
      "[52]\teval-rmse:2.30186\ttrain-rmse:2.27370\n",
      "[53]\teval-rmse:2.30180\ttrain-rmse:2.27318\n",
      "[54]\teval-rmse:2.30135\ttrain-rmse:2.27278\n",
      "[55]\teval-rmse:2.29934\ttrain-rmse:2.27047\n",
      "[56]\teval-rmse:2.29890\ttrain-rmse:2.26952\n",
      "[57]\teval-rmse:2.29958\ttrain-rmse:2.26880\n",
      "[58]\teval-rmse:2.29955\ttrain-rmse:2.26835\n",
      "[59]\teval-rmse:2.29957\ttrain-rmse:2.26800\n",
      "[60]\teval-rmse:2.30064\ttrain-rmse:2.26768\n",
      "[61]\teval-rmse:2.30078\ttrain-rmse:2.26741\n",
      "[62]\teval-rmse:2.30101\ttrain-rmse:2.26708\n",
      "[63]\teval-rmse:2.30213\ttrain-rmse:2.26669\n",
      "[64]\teval-rmse:2.30194\ttrain-rmse:2.26626\n",
      "[65]\teval-rmse:2.30182\ttrain-rmse:2.26587\n",
      "[66]\teval-rmse:2.30115\ttrain-rmse:2.26558\n",
      "[67]\teval-rmse:2.30160\ttrain-rmse:2.26529\n",
      "[68]\teval-rmse:2.30173\ttrain-rmse:2.26453\n",
      "[69]\teval-rmse:2.30150\ttrain-rmse:2.26385\n",
      "[70]\teval-rmse:2.30175\ttrain-rmse:2.26357\n",
      "[71]\teval-rmse:2.30191\ttrain-rmse:2.26337\n",
      "[72]\teval-rmse:2.30208\ttrain-rmse:2.26285\n",
      "[73]\teval-rmse:2.30361\ttrain-rmse:2.26213\n",
      "[74]\teval-rmse:2.30336\ttrain-rmse:2.26188\n",
      "[75]\teval-rmse:2.30289\ttrain-rmse:2.26160\n",
      "[76]\teval-rmse:2.30281\ttrain-rmse:2.26096\n",
      "[77]\teval-rmse:2.30328\ttrain-rmse:2.26064\n",
      "[78]\teval-rmse:2.30232\ttrain-rmse:2.25980\n",
      "[79]\teval-rmse:2.30231\ttrain-rmse:2.25926\n",
      "[80]\teval-rmse:2.30215\ttrain-rmse:2.25881\n",
      "[81]\teval-rmse:2.30208\ttrain-rmse:2.25831\n",
      "[82]\teval-rmse:2.30241\ttrain-rmse:2.25807\n",
      "[83]\teval-rmse:2.30205\ttrain-rmse:2.25779\n",
      "[84]\teval-rmse:2.30224\ttrain-rmse:2.25664\n",
      "[85]\teval-rmse:2.30216\ttrain-rmse:2.25626\n",
      "[86]\teval-rmse:2.30235\ttrain-rmse:2.25600\n",
      "[87]\teval-rmse:2.30252\ttrain-rmse:2.25570\n",
      "[88]\teval-rmse:2.30215\ttrain-rmse:2.25526\n",
      "[89]\teval-rmse:2.30189\ttrain-rmse:2.25508\n",
      "[90]\teval-rmse:2.30184\ttrain-rmse:2.25493\n",
      "[91]\teval-rmse:2.30159\ttrain-rmse:2.25464\n",
      "[92]\teval-rmse:2.30166\ttrain-rmse:2.25445\n",
      "[93]\teval-rmse:2.30173\ttrain-rmse:2.25421\n",
      "[94]\teval-rmse:2.30186\ttrain-rmse:2.25402\n",
      "[95]\teval-rmse:2.30199\ttrain-rmse:2.25393\n",
      "[96]\teval-rmse:2.30236\ttrain-rmse:2.25379\n",
      "[97]\teval-rmse:2.30189\ttrain-rmse:2.25362\n",
      "[98]\teval-rmse:2.30203\ttrain-rmse:2.25304\n",
      "[99]\teval-rmse:2.30228\ttrain-rmse:2.25278\n",
      "[23:22:49] WARNING: /Users/travis/build/dmlc/xgboost/src/objective/regression_obj.cu:170: reg:linear is now deprecated in favor of reg:squarederror.\n"
     ]
    }
   ],
   "source": [
    "dtrain = xgb.DMatrix(train.drop(columns = 'counts'), label = train['counts'])\n",
    "dtest = xgb.DMatrix(test.drop(columns = 'counts'), label = test['counts'])\n",
    "\n",
    "# set parameters\n",
    "param = {'max_depth': 5, 'eta': 0.3, 'objective': 'reg:linear' , \n",
    "        'silent': 1}\n",
    "param['eval_metric'] = 'rmse'\n",
    "evallist = [(dtest, 'eval'), (dtrain, 'train')]\n",
    "\n",
    "num_round = 100\n",
    "bst = xgb.train(param, dtrain, num_round, evallist, early_stopping_rounds = 10)"
   ]
  },
  {
   "cell_type": "code",
   "execution_count": 10,
   "metadata": {},
   "outputs": [],
   "source": [
    "# generate our predictions\n",
    "preds = bst.predict(dtest)"
   ]
  },
  {
   "cell_type": "code",
   "execution_count": 11,
   "metadata": {},
   "outputs": [
    {
     "data": {
      "image/png": "[encoded data removed]",
      "text/plain": [
       "<Figure size 432x288 with 1 Axes>"
      ]
     },
     "metadata": {},
     "output_type": "display_data"
    },
    {
     "data": {
      "image/png": "[encoded data removed]",
      "text/plain": [
       "<Figure size 432x288 with 1 Axes>"
      ]
     },
     "metadata": {},
     "output_type": "display_data"
    }
   ],
   "source": [
    "plt.subplot(2, 1, 1)\n",
    "plt.hist(preds)\n",
    "plt.xlabel('# of Crime Incidents')\n",
    "plt.title('Distribution of Predictions of Crime Counts (test set)')\n",
    "plt.show()\n",
    "\n",
    "plt.subplot(2, 1, 2)\n",
    "plt.hist(test['counts'])\n",
    "plt.xlabel('# of Crime Incidents')\n",
    "plt.title('Actual Distribution of Crime Counts (test set)')\n",
    "plt.show()"
   ]
  },
  {
   "cell_type": "code",
   "execution_count": 12,
   "metadata": {},
   "outputs": [
    {
     "data": {
      "text/plain": [
       "0.7613763078535917"
      ]
     },
     "execution_count": 12,
     "metadata": {},
     "output_type": "execute_result"
    }
   ],
   "source": [
    "from sklearn.metrics import r2_score\n",
    "r2_score(test['counts'], preds)"
   ]
  },
  {
   "cell_type": "code",
   "execution_count": 13,
   "metadata": {},
   "outputs": [
    {
     "name": "stderr",
     "output_type": "stream",
     "text": [
      "/Users/owenmcgrattan/miniconda3/lib/python3.6/site-packages/ipykernel_launcher.py:2: SettingWithCopyWarning: \n",
      "A value is trying to be set on a copy of a slice from a DataFrame.\n",
      "Try using .loc[row_indexer,col_indexer] = value instead\n",
      "\n",
      "See the caveats in the documentation: http://pandas.pydata.org/pandas-docs/stable/indexing.html#indexing-view-versus-copy\n",
      "  \n"
     ]
    }
   ],
   "source": [
    "# reappend preds count to test\n",
    "test['predicted'] = preds"
   ]
  },
  {
   "cell_type": "code",
   "execution_count": 14,
   "metadata": {},
   "outputs": [
    {
     "name": "stderr",
     "output_type": "stream",
     "text": [
      "/Users/owenmcgrattan/miniconda3/lib/python3.6/site-packages/ipykernel_launcher.py:2: SettingWithCopyWarning: \n",
      "A value is trying to be set on a copy of a slice from a DataFrame.\n",
      "Try using .loc[row_indexer,col_indexer] = value instead\n",
      "\n",
      "See the caveats in the documentation: http://pandas.pydata.org/pandas-docs/stable/indexing.html#indexing-view-versus-copy\n",
      "  \n"
     ]
    }
   ],
   "source": [
    "# randomly +- from window_count for pseudo prediction\n",
    "test['random_pred'] = test['window_count'] + np.random.choice([-1, 1], size = len(test))"
   ]
  },
  {
   "cell_type": "code",
   "execution_count": 15,
   "metadata": {
    "scrolled": true
   },
   "outputs": [
    {
     "data": {
      "text/html": [
       "<div>\n",
       "<style scoped>\n",
       "    .dataframe tbody tr th:only-of-type {\n",
       "        vertical-align: middle;\n",
       "    }\n",
       "\n",
       "    .dataframe tbody tr th {\n",
       "        vertical-align: top;\n",
       "    }\n",
       "\n",
       "    .dataframe thead th {\n",
       "        text-align: right;\n",
       "    }\n",
       "</style>\n",
       "<table border=\"1\" class=\"dataframe\">\n",
       "  <thead>\n",
       "    <tr style=\"text-align: right;\">\n",
       "      <th></th>\n",
       "      <th>lat_area</th>\n",
       "      <th>lon_area</th>\n",
       "      <th>counts</th>\n",
       "      <th>window_count</th>\n",
       "      <th>tod_0.0</th>\n",
       "      <th>tod_1.0</th>\n",
       "      <th>tod_2.0</th>\n",
       "      <th>predicted</th>\n",
       "      <th>random_pred</th>\n",
       "    </tr>\n",
       "  </thead>\n",
       "  <tbody>\n",
       "    <tr>\n",
       "      <th>16543</th>\n",
       "      <td>5.0</td>\n",
       "      <td>4.0</td>\n",
       "      <td>6.0</td>\n",
       "      <td>3.0</td>\n",
       "      <td>0.0</td>\n",
       "      <td>1.0</td>\n",
       "      <td>0.0</td>\n",
       "      <td>3.921645</td>\n",
       "      <td>2.0</td>\n",
       "    </tr>\n",
       "    <tr>\n",
       "      <th>16544</th>\n",
       "      <td>5.0</td>\n",
       "      <td>4.0</td>\n",
       "      <td>7.0</td>\n",
       "      <td>6.0</td>\n",
       "      <td>0.0</td>\n",
       "      <td>0.0</td>\n",
       "      <td>1.0</td>\n",
       "      <td>6.043744</td>\n",
       "      <td>7.0</td>\n",
       "    </tr>\n",
       "    <tr>\n",
       "      <th>16545</th>\n",
       "      <td>5.0</td>\n",
       "      <td>5.0</td>\n",
       "      <td>3.0</td>\n",
       "      <td>2.0</td>\n",
       "      <td>1.0</td>\n",
       "      <td>0.0</td>\n",
       "      <td>0.0</td>\n",
       "      <td>2.623921</td>\n",
       "      <td>1.0</td>\n",
       "    </tr>\n",
       "    <tr>\n",
       "      <th>16546</th>\n",
       "      <td>5.0</td>\n",
       "      <td>5.0</td>\n",
       "      <td>4.0</td>\n",
       "      <td>3.0</td>\n",
       "      <td>0.0</td>\n",
       "      <td>1.0</td>\n",
       "      <td>0.0</td>\n",
       "      <td>3.561833</td>\n",
       "      <td>4.0</td>\n",
       "    </tr>\n",
       "    <tr>\n",
       "      <th>16547</th>\n",
       "      <td>5.0</td>\n",
       "      <td>5.0</td>\n",
       "      <td>3.0</td>\n",
       "      <td>4.0</td>\n",
       "      <td>0.0</td>\n",
       "      <td>0.0</td>\n",
       "      <td>1.0</td>\n",
       "      <td>4.909706</td>\n",
       "      <td>5.0</td>\n",
       "    </tr>\n",
       "  </tbody>\n",
       "</table>\n",
       "</div>"
      ],
      "text/plain": [
       "       lat_area  lon_area  counts  window_count  tod_0.0  tod_1.0  tod_2.0  \\\n",
       "16543       5.0       4.0     6.0           3.0      0.0      1.0      0.0   \n",
       "16544       5.0       4.0     7.0           6.0      0.0      0.0      1.0   \n",
       "16545       5.0       5.0     3.0           2.0      1.0      0.0      0.0   \n",
       "16546       5.0       5.0     4.0           3.0      0.0      1.0      0.0   \n",
       "16547       5.0       5.0     3.0           4.0      0.0      0.0      1.0   \n",
       "\n",
       "       predicted  random_pred  \n",
       "16543   3.921645          2.0  \n",
       "16544   6.043744          7.0  \n",
       "16545   2.623921          1.0  \n",
       "16546   3.561833          4.0  \n",
       "16547   4.909706          5.0  "
      ]
     },
     "execution_count": 15,
     "metadata": {},
     "output_type": "execute_result"
    }
   ],
   "source": [
    "test.head()"
   ]
  },
  {
   "cell_type": "code",
   "execution_count": 16,
   "metadata": {},
   "outputs": [
    {
     "data": {
      "text/plain": [
       "0.7031619809449291"
      ]
     },
     "execution_count": 16,
     "metadata": {},
     "output_type": "execute_result"
    }
   ],
   "source": [
    "r2_score(test['counts'], test['random_pred'])"
   ]
  },
  {
   "cell_type": "code",
   "execution_count": 17,
   "metadata": {},
   "outputs": [],
   "source": [
    "two = test[test['tod_2.0'] == 1]\n",
    "one = test[test['tod_1.0'] == 1]\n",
    "zero = test[test['tod_0.0'] == 1]\n",
    "\n",
    "group_two = two.groupby(by = ['lat_area', 'lon_area']).mean().reset_index()\n",
    "group_one = one.groupby(by = ['lat_area', 'lon_area']).mean().reset_index()\n",
    "group_zero = zero.groupby(by = ['lat_area', 'lon_area']).mean().reset_index()"
   ]
  },
  {
   "cell_type": "code",
   "execution_count": 40,
   "metadata": {},
   "outputs": [
    {
     "data": {
      "image/png": "[encoded data removed]",
      "text/plain": [
       "<Figure size 432x288 with 2 Axes>"
      ]
     },
     "metadata": {},
     "output_type": "display_data"
    }
   ],
   "source": [
    "plt.subplot(1, 2, 1)\n",
    "plt.scatter(group_two['lon_area'], group_zero['lat_area'], s = (group_two['predicted']) ** 1.5)\n",
    "plt.xlabel('Lon Area')\n",
    "plt.ylabel('Lat Area')\n",
    "plt.title('Predicted Counts (test set)')\n",
    "\n",
    "plt.subplot(1, 2, 2)\n",
    "plt.scatter(group_two['lon_area'], group_two['lat_area'], s = (group_zero['counts']) ** 1.5)\n",
    "plt.xlabel('Lon Area')\n",
    "plt.ylabel('Lat Area')\n",
    "plt.title('Actual Count (test set)')\n",
    "plt.show()"
   ]
  },
  {
   "cell_type": "code",
   "execution_count": null,
   "metadata": {},
   "outputs": [],
   "source": []
  }
 ],
 "metadata": {
  "kernelspec": {
   "display_name": "Python 3",
   "language": "python",
   "name": "python3"
  },
  "language_info": {
   "codemirror_mode": {
    "name": "ipython",
    "version": 3
   },
   "file_extension": ".py",
   "mimetype": "text/x-python",
   "name": "python",
   "nbconvert_exporter": "python",
   "pygments_lexer": "ipython3",
   "version": "3.6.8"
  }
 },
 "nbformat": 4,
 "nbformat_minor": 2
}
